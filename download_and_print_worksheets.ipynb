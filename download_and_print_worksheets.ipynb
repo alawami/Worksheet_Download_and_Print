{
 "cells": [
  {
   "cell_type": "code",
   "execution_count": 1,
   "metadata": {},
   "outputs": [],
   "source": [
    "import requests\n",
    "import time\n",
    "import os\n",
    "import subprocess\n",
    "\n",
    "files_path = 'worksheets'\n",
    "\n",
    "if not os.path.isdir(files_path):\n",
    "    os.makedirs(files_path)\n",
    "\n",
    "parts = list('abcdef')\n",
    "extension = '.pdf'"
   ]
  },
  {
   "cell_type": "code",
   "execution_count": 2,
   "metadata": {},
   "outputs": [],
   "source": [
    "# Create list of potential urls\n",
    "urls = []\n",
    "\n",
    "with open('worksheet_url_prefix', 'r') as file:\n",
    "    for urlprefix in file.readlines():\n",
    "        # Drop newline character\n",
    "        urls.extend([urlprefix[:-1] + part + extension for part in parts])"
   ]
  },
  {
   "cell_type": "code",
   "execution_count": 3,
   "metadata": {},
   "outputs": [],
   "source": [
    "def download_and_save_worksheet(url, path=''):\n",
    "    try:\n",
    "        response = requests.get(url)\n",
    "        file_name = url.split('/')[-1]\n",
    "        \n",
    "        response.raise_for_status()\n",
    "        \n",
    "#         if response.status_code == 404:\n",
    "#             print('File not found: ' + file_name)\n",
    "#             return None\n",
    "        \n",
    "        with open(os.path.join(path, file_name), 'wb') as file:\n",
    "            file.write(response.content)\n",
    "            \n",
    "        return file_name\n",
    "            \n",
    "    except requests.exceptions.HTTPError as error:\n",
    "        print('File not found: ' + file_name)\n",
    "        print(error)\n",
    "    except requests.exceptions.ConnectionError as errc:\n",
    "        print (\"Error Connecting:\",errc)\n",
    "    except requests.exceptions.Timeout as errt:\n",
    "        print (\"Timeout Error:\",errt)\n",
    "    except requests.exceptions.RequestException as err:\n",
    "        print (\"Unexpected error\", err)"
   ]
  },
  {
   "cell_type": "code",
   "execution_count": 4,
   "metadata": {},
   "outputs": [
    {
     "name": "stdout",
     "output_type": "stream",
     "text": [
      "File not found: grade-4-prime-factors-d.pdf\n",
      "404 Client Error: Not Found for url: https://www.k5learning.com/worksheets/math/grade-4-prime-factors-d.pdf\n",
      "File not found: grade-4-prime-factors-e.pdf\n",
      "404 Client Error: Not Found for url: https://www.k5learning.com/worksheets/math/grade-4-prime-factors-e.pdf\n",
      "File not found: grade-4-prime-factors-f.pdf\n",
      "404 Client Error: Not Found for url: https://www.k5learning.com/worksheets/math/grade-4-prime-factors-f.pdf\n",
      "File not found: grade-5-exponents-d.pdf\n",
      "404 Client Error: Not Found for url: https://www.k5learning.com/worksheets/math/grade-5-exponents-d.pdf\n",
      "File not found: grade-5-exponents-e.pdf\n",
      "404 Client Error: Not Found for url: https://www.k5learning.com/worksheets/math/grade-5-exponents-e.pdf\n",
      "File not found: grade-5-exponents-f.pdf\n",
      "404 Client Error: Not Found for url: https://www.k5learning.com/worksheets/math/grade-5-exponents-f.pdf\n",
      "File not found: grade-6-exponents-whole-number-base-negative-and-zero-exponentsa.pdf\n",
      "404 Client Error: Not Found for url: https://www.k5learning.com/worksheets/math/grade-6-exponents-whole-number-base-negative-and-zero-exponentsa.pdf\n",
      "File not found: grade-6-exponents-whole-number-base-negative-and-zero-exponentsb.pdf\n",
      "404 Client Error: Not Found for url: https://www.k5learning.com/worksheets/math/grade-6-exponents-whole-number-base-negative-and-zero-exponentsb.pdf\n",
      "File not found: grade-6-exponents-whole-number-base-negative-and-zero-exponentsc.pdf\n",
      "404 Client Error: Not Found for url: https://www.k5learning.com/worksheets/math/grade-6-exponents-whole-number-base-negative-and-zero-exponentsc.pdf\n",
      "File not found: grade-6-exponents-whole-number-base-negative-and-zero-exponentsd.pdf\n",
      "404 Client Error: Not Found for url: https://www.k5learning.com/worksheets/math/grade-6-exponents-whole-number-base-negative-and-zero-exponentsd.pdf\n",
      "File not found: grade-6-exponents-whole-number-base-negative-and-zero-exponentse.pdf\n",
      "404 Client Error: Not Found for url: https://www.k5learning.com/worksheets/math/grade-6-exponents-whole-number-base-negative-and-zero-exponentse.pdf\n",
      "File not found: grade-6-exponents-whole-number-base-negative-and-zero-exponentsf.pdf\n",
      "404 Client Error: Not Found for url: https://www.k5learning.com/worksheets/math/grade-6-exponents-whole-number-base-negative-and-zero-exponentsf.pdf\n"
     ]
    }
   ],
   "source": [
    "# Loop throught the urls\n",
    "file_names = []\n",
    "\n",
    "for url in urls:\n",
    "    file_name = download_and_save_worksheet(url, files_path)\n",
    "    \n",
    "    if file_name is not None:\n",
    "        file_names.append(file_name)\n",
    "        \n",
    "    time.sleep(0.100)"
   ]
  },
  {
   "cell_type": "code",
   "execution_count": 5,
   "metadata": {},
   "outputs": [],
   "source": [
    "file_paths = [os.path.join(files_path, file_name) for file_name in file_names]"
   ]
  },
  {
   "cell_type": "code",
   "execution_count": 19,
   "metadata": {},
   "outputs": [
    {
     "name": "stdout",
     "output_type": "stream",
     "text": [
      "Printing worksheets/grade-6-subtracting-unlike-fractions-denominators-to-30-a.pdf\n",
      "Printing worksheets/grade-6-subtracting-unlike-fractions-denominators-to-30-b.pdf\n",
      "Printing worksheets/grade-6-subtracting-unlike-fractions-denominators-to-30-c.pdf\n",
      "Printing worksheets/grade-6-subtracting-unlike-fractions-denominators-to-30-d.pdf\n",
      "Printing worksheets/grade-6-subtracting-unlike-fractions-denominators-to-30-e.pdf\n",
      "Printing worksheets/grade-6-subtracting-unlike-fractions-denominators-to-30-f.pdf\n",
      "Printing worksheets/grade-6-multiplying-fractions-denominators-2-25-a.pdf\n",
      "Printing worksheets/grade-6-multiplying-fractions-denominators-2-25-b.pdf\n",
      "Printing worksheets/grade-6-multiplying-fractions-denominators-2-25-c.pdf\n",
      "Printing worksheets/grade-6-multiplying-fractions-denominators-2-25-d.pdf\n",
      "Printing worksheets/grade-6-multiplying-fractions-denominators-2-25-e.pdf\n",
      "Printing worksheets/grade-6-multiplying-fractions-denominators-2-25-f.pdf\n",
      "Printing worksheets/grade-6-dividing-fractions-a.pdf\n",
      "Printing worksheets/grade-6-dividing-fractions-b.pdf\n",
      "Printing worksheets/grade-6-dividing-fractions-c.pdf\n",
      "Printing worksheets/grade-6-dividing-fractions-d.pdf\n",
      "Printing worksheets/grade-6-dividing-fractions-e.pdf\n",
      "Printing worksheets/grade-6-dividing-fractions-f.pdf\n",
      "Printing worksheets/grade-6-simplifying-fractions-hard-a.pdf\n",
      "Printing worksheets/grade-6-simplifying-fractions-hard-b.pdf\n",
      "Printing worksheets/grade-6-simplifying-fractions-hard-c.pdf\n",
      "Printing worksheets/grade-6-simplifying-fractions-hard-d.pdf\n",
      "Printing worksheets/grade-6-simplifying-fractions-hard-e.pdf\n",
      "Printing worksheets/grade-6-simplifying-fractions-hard-f.pdf\n",
      "Printing worksheets/grade-4-factoring-4-50-a.pdf\n",
      "Printing worksheets/grade-4-factoring-4-50-b.pdf\n",
      "Printing worksheets/grade-4-factoring-4-50-c.pdf\n",
      "Printing worksheets/grade-4-factoring-4-50-d.pdf\n",
      "Printing worksheets/grade-4-factoring-4-50-e.pdf\n",
      "Printing worksheets/grade-4-factoring-4-50-f.pdf\n",
      "Printing worksheets/grade-4-prime-factors-a.pdf\n",
      "Printing worksheets/grade-4-prime-factors-b.pdf\n",
      "Printing worksheets/grade-4-prime-factors-c.pdf\n",
      "Printing worksheets/grade-5-exponents-a.pdf\n",
      "Printing worksheets/grade-5-exponents-b.pdf\n",
      "Printing worksheets/grade-5-exponents-c.pdf\n"
     ]
    }
   ],
   "source": [
    "def print_files(file, printer, options):\n",
    "    pass\n",
    "\n",
    "for file in file_paths:\n",
    "    print('Printing ' + file)\n",
    "    printer = subprocess.run(\"lpstat -p | awk '{print $2}'\", capture_output=True, text=True, shell=True)\n",
    "    printer = printer.stdout[:-1] # Drop newline character\n",
    "    subprocess.run([\"lp\", \"-d\", printer, \"-o\", \"page-ranges=1\", \"-o\", \"fit-to-page\", file])\n",
    "    time.sleep(1)"
   ]
  }
 ],
 "metadata": {
  "kernelspec": {
   "display_name": "Python 3",
   "language": "python",
   "name": "python3"
  },
  "language_info": {
   "codemirror_mode": {
    "name": "ipython",
    "version": 3
   },
   "file_extension": ".py",
   "mimetype": "text/x-python",
   "name": "python",
   "nbconvert_exporter": "python",
   "pygments_lexer": "ipython3",
   "version": "3.6.10"
  }
 },
 "nbformat": 4,
 "nbformat_minor": 4
}
